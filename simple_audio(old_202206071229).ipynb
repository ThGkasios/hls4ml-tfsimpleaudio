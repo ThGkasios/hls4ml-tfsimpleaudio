{
 "cells": [
  {
   "cell_type": "markdown",
   "metadata": {},
   "source": [
    "# Testing this example with <a href=\"https://github.com/fastmachinelearning/hls4ml\">HLS4ML</a>\n",
    "##### Copyright 2020 The TensorFlow Authors. Notebook modified by <a href=\"https://github.com/ThGkasioshttps://github.com/ThGkasios\">ThGkasios</a>\n",
    "Note: this notebook is deprecated",
    "Contents:\n",
    "- <a href=\"#Setup\">Setup</a>\n",
    "- <a href=\"#Import-the-mini-Speech-Commands-Dataset\">Import the Dataset</a>\n",
    "- <a href=\"#Convert-waveforms-to-spectrograms\">Convert waveforms to spectrograms</a>\n",
    "- <a href=\"#Build-and-train-the-model\">Build and train the model</a>\n",
    "- <a href=\"#Processing-the-model-for-hls4ml\">Processing the model for hls4ml</a>\n",
    "- <a href=\"#HLS4ML-Configuration-&-Compilation\">HLS4ML Configuration and Compilation</a>"
   ]
  },
  {
   "cell_type": "code",
   "execution_count": 1,
   "metadata": {
    "cellView": "form",
    "execution": {
     "iopub.execute_input": "2022-01-26T08:04:40.934430Z",
     "iopub.status.busy": "2022-01-26T08:04:40.933552Z",
     "iopub.status.idle": "2022-01-26T08:04:40.936113Z",
     "shell.execute_reply": "2022-01-26T08:04:40.936549Z"
    },
    "id": "AJs7HHFmg1M9"
   },
   "outputs": [],
   "source": [
    "#@title Licensed under the Apache License, Version 2.0 (the \"License\");\n",
    "# you may not use this file except in compliance with the License.\n",
    "# You may obtain a copy of the License at\n",
    "#\n",
    "# https://www.apache.org/licenses/LICENSE-2.0\n",
    "#\n",
    "# Unless required by applicable law or agreed to in writing, software\n",
    "# distributed under the License is distributed on an \"AS IS\" BASIS,\n",
    "# WITHOUT WARRANTIES OR CONDITIONS OF ANY KIND, either express or implied.\n",
    "# See the License for the specific language governing permissions and\n",
    "# limitations under the License."
   ]
  },
  {
   "cell_type": "markdown",
   "metadata": {
    "id": "jYysdyb-CaWM"
   },
   "source": [
    "### Source: Tensorflow Example: Simple audio recognition: Recognizing keywords"
   ]
  },
  {
   "cell_type": "markdown",
   "metadata": {
    "id": "CNbqmZy0gbyE"
   },
   "source": [
    "<table class=\"tfo-notebook-buttons\" align=\"left\">\n",
    "  <td>\n",
    "    <a target=\"_blank\" href=\"https://www.tensorflow.org/tutorials/audio/simple_audio\">\n",
    "    <img src=\"https://www.tensorflow.org/images/tf_logo_32px.png\" />\n",
    "    View on TensorFlow.org</a>\n",
    "  </td>\n",
    "  <td>\n",
    "    <a target=\"_blank\" href=\"https://colab.research.google.com/github/tensorflow/docs/blob/master/site/en/tutorials/audio/simple_audio.ipynb\">\n",
    "    <img src=\"https://www.tensorflow.org/images/colab_logo_32px.png\" />\n",
    "    Run in Google Colab</a>\n",
    "  </td>\n",
    "  <td>\n",
    "    <a target=\"_blank\" href=\"https://github.com/tensorflow/docs/blob/master/site/en/tutorials/audio/simple_audio.ipynb\">\n",
    "    <img src=\"https://www.tensorflow.org/images/GitHub-Mark-32px.png\" />\n",
    "    View source on GitHub</a>\n",
    "  </td>\n",
    "  <td>\n",
    "    <a href=\"https://storage.googleapis.com/tensorflow_docs/docs/site/en/tutorials/audio/simple_audio.ipynb\"><img src=\"https://www.tensorflow.org/images/download_logo_32px.png\" />Download notebook</a>\n",
    "  </td>\n",
    "</table>"
   ]
  },
  {
   "cell_type": "markdown",
   "metadata": {
    "id": "SPfDNFlb66XF"
   },
   "source": [
    "This tutorial demonstrates how to preprocess audio files in the WAV format and build and train a basic <a href=\"https://en.wikipedia.org/wiki/Speech_recognition\" class=\"external\">automatic speech recognition</a> (ASR) model for recognizing ten different words. You will use a portion of the [Speech Commands dataset](https://www.tensorflow.org/datasets/catalog/speech_commands) (<a href=\"https://arxiv.org/abs/1804.03209\" class=\"external\">Warden, 2018</a>), which contains short (one-second or less) audio clips of commands, such as \"down\", \"go\", \"left\", \"no\", \"right\", \"stop\", \"up\" and \"yes\".\n",
    "\n",
    "Real-world speech and audio recognition <a href=\"https://ai.googleblog.com/search/label/Speech%20Recognition\" class=\"external\">systems</a> are complex. But, like [image classification with the MNIST dataset](../quickstart/beginner.ipynb), this tutorial should give you a basic understanding of the techniques involved."
   ]
  },
  {
   "cell_type": "markdown",
   "metadata": {
    "id": "Go9C3uLL8Izc"
   },
   "source": [
    "## Setup"
   ]
  },
  {
   "cell_type": "code",
   "execution_count": 2,
   "metadata": {
    "execution": {
     "iopub.execute_input": "2022-01-26T08:04:40.945813Z",
     "iopub.status.busy": "2022-01-26T08:04:40.945133Z",
     "iopub.status.idle": "2022-01-26T08:04:44.130549Z",
     "shell.execute_reply": "2022-01-26T08:04:44.129979Z"
    },
    "id": "dzLKpmZICaWN"
   },
   "outputs": [
    {
     "name": "stderr",
     "output_type": "stream",
     "text": [
      "C:\\Users\\themi\\anaconda3\\lib\\site-packages\\hls4ml\\converters\\__init__.py:16: UserWarning: WARNING: Pytorch converter is not enabled!\n",
      "  warnings.warn(\"WARNING: Pytorch converter is not enabled!\")\n"
     ]
    }
   ],
   "source": [
    "import os\n",
    "import pathlib\n",
    "\n",
    "import matplotlib.pyplot as plt\n",
    "import plotting\n",
    "import numpy as np\n",
    "import seaborn as sns # Data Visualization\n",
    "import tensorflow as tf\n",
    "\n",
    "import hls4ml\n",
    "import math\n",
    "\n",
    "from tensorflow.keras import layers\n",
    "from tensorflow.keras import models\n",
    "from tensorflow.keras.utils import to_categorical\n",
    "from IPython import display\n",
    "\n",
    "import tensorflow_model_optimization as tfmot\n",
    "\n",
    "# Set the seed value for experiment reproducibility.\n",
    "seed = 42\n",
    "tf.random.set_seed(seed)\n",
    "np.random.seed(seed)"
   ]
  },
  {
   "cell_type": "markdown",
   "metadata": {
    "id": "yR0EdgrLCaWR"
   },
   "source": [
    "## Import the mini Speech Commands Dataset\n",
    "\n",
    "To save time with data loading, you will be working with a smaller version of the Speech Commands dataset. The [original dataset](https://www.tensorflow.org/datasets/catalog/speech_commands) consists of over 105,000 audio files in the <a href=\"https://www.aelius.com/njh/wavemetatools/doc/riffmci.pdf\" class=\"external\">WAV (Waveform) audio file format</a> of people saying 35 different words. This data was collected by Google and released under a CC BY license.\n",
    "\n",
    "Download and extract the `mini_speech_commands.zip` file containing the smaller Speech Commands datasets with `tf.keras.utils.get_file`:"
   ]
  },
  {
   "cell_type": "code",
   "execution_count": 3,
   "metadata": {
    "execution": {
     "iopub.execute_input": "2022-01-26T08:04:44.137929Z",
     "iopub.status.busy": "2022-01-26T08:04:44.137174Z",
     "iopub.status.idle": "2022-01-26T08:04:49.307392Z",
     "shell.execute_reply": "2022-01-26T08:04:49.306742Z"
    },
    "id": "2-rayb7-3Y0I"
   },
   "outputs": [],
   "source": [
    "DATASET_PATH = 'data/mini_speech_commands'\n",
    "data_dir = pathlib.Path(DATASET_PATH)\n",
    "if not data_dir.exists():\n",
    "  tf.keras.utils.get_file('mini_speech_commands.zip',\n",
    "      origin=\"http://storage.googleapis.com/download.tensorflow.org/data/mini_speech_commands.zip\",\n",
    "      extract=True, cache_dir='.', cache_subdir='data')"
   ]
  },
  {
   "cell_type": "markdown",
   "metadata": {
    "id": "BgvFq3uYiS5G"
   },
   "source": [
    "The dataset's audio clips are stored in eight folders corresponding to each speech command: `no`, `yes`, `down`, `go`, `left`, `up`, `right`, and `stop`:"
   ]
  },
  {
   "cell_type": "code",
   "execution_count": 4,
   "metadata": {
    "execution": {
     "iopub.execute_input": "2022-01-26T08:04:49.312621Z",
     "iopub.status.busy": "2022-01-26T08:04:49.311989Z",
     "iopub.status.idle": "2022-01-26T08:04:49.314667Z",
     "shell.execute_reply": "2022-01-26T08:04:49.315026Z"
    },
    "id": "70IBxSKxA1N9"
   },
   "outputs": [
    {
     "name": "stdout",
     "output_type": "stream",
     "text": [
      "Commands: ['down' 'go' 'left' 'no' 'right' 'stop' 'up' 'yes']\n"
     ]
    }
   ],
   "source": [
    "commands = np.array(tf.io.gfile.listdir(str(data_dir)))\n",
    "commands = commands[commands != 'README.md']\n",
    "print('Commands:', commands)"
   ]
  },
  {
   "cell_type": "markdown",
   "metadata": {
    "id": "aMvdU9SY8WXN"
   },
   "source": [
    "Extract the audio clips into a list called `filenames`, and shuffle it:"
   ]
  },
  {
   "cell_type": "code",
   "execution_count": 5,
   "metadata": {
    "execution": {
     "iopub.execute_input": "2022-01-26T08:04:49.320460Z",
     "iopub.status.busy": "2022-01-26T08:04:49.319695Z",
     "iopub.status.idle": "2022-01-26T08:04:51.053400Z",
     "shell.execute_reply": "2022-01-26T08:04:51.052878Z"
    },
    "id": "hlX685l1wD9k"
   },
   "outputs": [
    {
     "name": "stdout",
     "output_type": "stream",
     "text": [
      "Number of total examples: 8000\n",
      "Number of examples per label: 1000\n",
      "Example file tensor: tf.Tensor(b'data\\\\mini_speech_commands\\\\no\\\\b06c19b0_nohash_0.wav', shape=(), dtype=string)\n"
     ]
    }
   ],
   "source": [
    "filenames = tf.io.gfile.glob(str(data_dir) + '/*/*')\n",
    "filenames = tf.random.shuffle(filenames)\n",
    "num_samples = len(filenames)\n",
    "print('Number of total examples:', num_samples)\n",
    "print('Number of examples per label:', len(tf.io.gfile.listdir(str(data_dir/commands[0]))))\n",
    "print('Example file tensor:', filenames[0])"
   ]
  },
  {
   "cell_type": "markdown",
   "metadata": {
    "id": "9vK3ymy23MCP"
   },
   "source": [
    "Split `filenames` into training, validation and test sets using a 80:10:10 ratio, respectively:"
   ]
  },
  {
   "cell_type": "code",
   "execution_count": 6,
   "metadata": {
    "execution": {
     "iopub.execute_input": "2022-01-26T08:04:51.058614Z",
     "iopub.status.busy": "2022-01-26T08:04:51.057996Z",
     "iopub.status.idle": "2022-01-26T08:04:51.062220Z",
     "shell.execute_reply": "2022-01-26T08:04:51.061764Z"
    },
    "id": "Cv_wts-l3KgD"
   },
   "outputs": [
    {
     "name": "stdout",
     "output_type": "stream",
     "text": [
      "Training set size 6400\n",
      "Validation set size 800\n",
      "Test set size 800\n"
     ]
    }
   ],
   "source": [
    "train_files = filenames[:6400]\n",
    "val_files = filenames[6400: 6400 + 800]\n",
    "test_files = filenames[-800:]\n",
    "\n",
    "print('Training set size', len(train_files))\n",
    "print('Validation set size', len(val_files))\n",
    "print('Test set size', len(test_files))"
   ]
  },
  {
   "cell_type": "markdown",
   "metadata": {
    "id": "g2Cj9FyvfweD"
   },
   "source": [
    "## Read the audio files and their labels"
   ]
  },
  {
   "cell_type": "markdown",
   "metadata": {
    "id": "j1zjcWteOcBy"
   },
   "source": [
    "In this section you will preprocess the dataset, creating decoded tensors for the waveforms and the corresponding labels. Note that:\n",
    "\n",
    "- Each WAV file contains time-series data with a set number of samples per second.\n",
    "- Each sample represents the <a href=\"https://en.wikipedia.org/wiki/Amplitude\" class=\"external\">amplitude</a> of the audio signal at that specific time.\n",
    "- In a <a href=\"https://en.wikipedia.org/wiki/Audio_bit_depth\" class=\"external\">16-bit</a> system, like the WAV files in the mini Speech Commands dataset, the amplitude values range from -32,768 to 32,767.\n",
    "- The <a href=\"https://en.wikipedia.org/wiki/Sampling_(signal_processing)#Audio_sampling\" class=\"external\">sample rate</a> for this dataset is 16kHz.\n",
    "\n",
    "The shape of the tensor returned by `tf.audio.decode_wav` is `[samples, channels]`, where `channels` is `1` for mono or `2` for stereo. The mini Speech Commands dataset only contains mono recordings. "
   ]
  },
  {
   "cell_type": "code",
   "execution_count": 7,
   "metadata": {
    "execution": {
     "iopub.execute_input": "2022-01-26T08:04:51.067167Z",
     "iopub.status.busy": "2022-01-26T08:04:51.066572Z",
     "iopub.status.idle": "2022-01-26T08:04:51.071744Z",
     "shell.execute_reply": "2022-01-26T08:04:51.072134Z"
    },
    "id": "d16bb8416f90"
   },
   "outputs": [
    {
     "data": {
      "text/plain": [
       "TensorShape([13654, 1])"
      ]
     },
     "execution_count": 7,
     "metadata": {},
     "output_type": "execute_result"
    }
   ],
   "source": [
    "test_file = tf.io.read_file(DATASET_PATH+'/down/0a9f9af7_nohash_0.wav')\n",
    "test_audio, _ = tf.audio.decode_wav(contents=test_file)\n",
    "test_audio.shape"
   ]
  },
  {
   "cell_type": "markdown",
   "metadata": {
    "id": "e6bb8defd2ef"
   },
   "source": [
    "Now, let's define a function that preprocesses the dataset's raw WAV audio files into audio tensors:"
   ]
  },
  {
   "cell_type": "code",
   "execution_count": 8,
   "metadata": {
    "execution": {
     "iopub.execute_input": "2022-01-26T08:04:51.076854Z",
     "iopub.status.busy": "2022-01-26T08:04:51.076218Z",
     "iopub.status.idle": "2022-01-26T08:04:51.077976Z",
     "shell.execute_reply": "2022-01-26T08:04:51.078334Z"
    },
    "id": "9PjJ2iXYwftD"
   },
   "outputs": [],
   "source": [
    "def decode_audio(audio_binary):\n",
    "  # Decode WAV-encoded audio files to `float32` tensors, normalized\n",
    "  # to the [-1.0, 1.0] range. Return `float32` audio and a sample rate.\n",
    "  audio, _ = tf.audio.decode_wav(contents=audio_binary)\n",
    "  # Since all the data is single channel (mono), drop the `channels`\n",
    "  # axis from the array.\n",
    "  return tf.squeeze(audio, axis=-1)"
   ]
  },
  {
   "cell_type": "markdown",
   "metadata": {
    "id": "GPQseZElOjVN"
   },
   "source": [
    "Define a function that creates labels using the parent directories for each file:\n",
    "\n",
    "- Split the file paths into `tf.RaggedTensor`s (tensors with ragged dimensions—with slices that may have different lengths)."
   ]
  },
  {
   "cell_type": "code",
   "execution_count": 9,
   "metadata": {
    "execution": {
     "iopub.execute_input": "2022-01-26T08:04:51.082722Z",
     "iopub.status.busy": "2022-01-26T08:04:51.082140Z",
     "iopub.status.idle": "2022-01-26T08:04:51.083771Z",
     "shell.execute_reply": "2022-01-26T08:04:51.084169Z"
    },
    "id": "8VTtX1nr3YT-"
   },
   "outputs": [],
   "source": [
    "def get_label(file_path):\n",
    "  parts = tf.strings.split(input=file_path, sep=os.path.sep)\n",
    "  # Note: You'll use indexing here instead of tuple unpacking to enable this\n",
    "  # to work in a TensorFlow graph.\n",
    "  return parts[-2]"
   ]
  },
  {
   "cell_type": "markdown",
   "metadata": {
    "id": "E8Y9w_5MOsr-"
   },
   "source": [
    "Define another helper function—`get_waveform_and_label`—that puts it all together:\n",
    "\n",
    "- The input is the WAV audio filename.\n",
    "- The output is a tuple containing the audio and label tensors ready for supervised learning."
   ]
  },
  {
   "cell_type": "code",
   "execution_count": 10,
   "metadata": {
    "execution": {
     "iopub.execute_input": "2022-01-26T08:04:51.088167Z",
     "iopub.status.busy": "2022-01-26T08:04:51.087551Z",
     "iopub.status.idle": "2022-01-26T08:04:51.090110Z",
     "shell.execute_reply": "2022-01-26T08:04:51.089641Z"
    },
    "id": "WdgUD5T93NyT"
   },
   "outputs": [],
   "source": [
    "def get_waveform_and_label(file_path):\n",
    "  label = get_label(file_path)\n",
    "  audio_binary = tf.io.read_file(file_path)\n",
    "  waveform = decode_audio(audio_binary)\n",
    "  return waveform, label"
   ]
  },
  {
   "cell_type": "markdown",
   "metadata": {
    "id": "nvN8W_dDjYjc"
   },
   "source": [
    "Build the training set to extract the audio-label pairs:\n",
    "\n",
    "- Create a `tf.data.Dataset` with `Dataset.from_tensor_slices` and `Dataset.map`, using `get_waveform_and_label` defined earlier.\n",
    "\n",
    "You'll build the validation and test sets using a similar procedure later on."
   ]
  },
  {
   "cell_type": "code",
   "execution_count": 11,
   "metadata": {
    "execution": {
     "iopub.execute_input": "2022-01-26T08:04:51.097251Z",
     "iopub.status.busy": "2022-01-26T08:04:51.096180Z",
     "iopub.status.idle": "2022-01-26T08:04:51.230089Z",
     "shell.execute_reply": "2022-01-26T08:04:51.230527Z"
    },
    "id": "0SQl8yXl3kNP"
   },
   "outputs": [],
   "source": [
    "AUTOTUNE = tf.data.AUTOTUNE\n",
    "files_ds = tf.data.Dataset.from_tensor_slices(train_files)\n",
    "waveform_ds = files_ds.map(map_func=get_waveform_and_label, num_parallel_calls=AUTOTUNE)"
   ]
  },
  {
   "cell_type": "markdown",
   "metadata": {
    "id": "voxGEwvuh2L7"
   },
   "source": [
    "Let's plot a few audio waveforms:"
   ]
  },
  {
   "cell_type": "code",
   "execution_count": 12,
   "metadata": {
    "execution": {
     "iopub.execute_input": "2022-01-26T08:04:51.357783Z",
     "iopub.status.busy": "2022-01-26T08:04:51.357061Z",
     "iopub.status.idle": "2022-01-26T08:04:52.086735Z",
     "shell.execute_reply": "2022-01-26T08:04:52.087151Z"
    },
    "id": "8yuX6Nqzf6wT"
   },
   "outputs": [],
   "source": [
    "# rows = 3\n",
    "# cols = 3\n",
    "# n = rows * cols\n",
    "# fig, axes = plt.subplots(rows, cols, figsize=(10, 12))\n",
    "\n",
    "# for i, (audio, label) in enumerate(waveform_ds.take(n)):\n",
    "#   r = i // cols\n",
    "#   c = i % cols\n",
    "#   ax = axes[r][c]\n",
    "#   ax.plot(audio.numpy())\n",
    "#   ax.set_yticks(np.arange(-1.2, 1.2, 0.2))\n",
    "#   label = label.numpy().decode('utf-8')\n",
    "#   ax.set_title(label)\n",
    "\n",
    "# plt.show()"
   ]
  },
  {
   "cell_type": "markdown",
   "metadata": {
    "id": "EWXPphxm0B4m"
   },
   "source": [
    "# Convert waveforms to spectrograms\n",
    "\n",
    "The waveforms in the dataset are represented in the time domain. Next, you'll transform the waveforms from the time-domain signals into the time-frequency-domain signals by computing the <a href=\"https://en.wikipedia.org/wiki/Short-time_Fourier_transform\" class=\"external\">short-time Fourier transform (STFT)</a> to convert the waveforms to as <a href=\"https://en.wikipedia.org/wiki/Spectrogram\" clas=\"external\">spectrograms</a>, which show frequency changes over time and can be represented as 2D images. You will feed the spectrogram images into your neural network to train the model.\n",
    "\n",
    "A Fourier transform (`tf.signal.fft`) converts a signal to its component frequencies, but loses all time information. In comparison, STFT (`tf.signal.stft`) splits the signal into windows of time and runs a Fourier transform on each window, preserving some time information, and returning a 2D tensor that you can run standard convolutions on.\n",
    "\n",
    "Create a utility function for converting waveforms to spectrograms:\n",
    "\n",
    "- The waveforms need to be of the same length, so that when you convert them to spectrograms, the results have similar dimensions. This can be done by simply zero-padding the audio clips that are shorter than one second (using `tf.zeros`).\n",
    "- When calling `tf.signal.stft`, choose the `frame_length` and `frame_step` parameters such that the generated spectrogram \"image\" is almost square. For more information on the STFT parameters choice, refer to <a href=\"https://www.coursera.org/lecture/audio-signal-processing/stft-2-tjEQe\" class=\"external\">this Coursera video</a> on audio signal processing and STFT.\n",
    "- The STFT produces an array of complex numbers representing magnitude and phase. However, in this tutorial you'll only use the magnitude, which you can derive by applying `tf.abs` on the output of `tf.signal.stft`."
   ]
  },
  {
   "cell_type": "code",
   "execution_count": 13,
   "metadata": {
    "execution": {
     "iopub.execute_input": "2022-01-26T08:04:52.093916Z",
     "iopub.status.busy": "2022-01-26T08:04:52.093060Z",
     "iopub.status.idle": "2022-01-26T08:04:52.095594Z",
     "shell.execute_reply": "2022-01-26T08:04:52.095070Z"
    },
    "id": "_4CK75DHz_OR"
   },
   "outputs": [],
   "source": [
    "def get_spectrogram(waveform):\n",
    "  # Zero-padding for an audio waveform with less than 16,000 samples.\n",
    "  input_len = 16000\n",
    "  waveform = waveform[:input_len]\n",
    "  zero_padding = tf.zeros([16000] - tf.shape(waveform), dtype=tf.float32)\n",
    "  # Cast the waveform tensors' dtype to float32.\n",
    "  waveform = tf.cast(waveform, dtype=tf.float32)\n",
    "  # Concatenate the waveform with `zero_padding`, which ensures all audio\n",
    "  # clips are of the same length.\n",
    "  equal_length = tf.concat([waveform, zero_padding], 0)\n",
    "  # Convert the waveform to a spectrogram via a STFT.\n",
    "  spectrogram = tf.signal.stft(equal_length, frame_length=255, frame_step=128)\n",
    "  # Obtain the magnitude of the STFT.\n",
    "  spectrogram = tf.abs(spectrogram)\n",
    "  # Add a `channels` dimension, so that the spectrogram can be used\n",
    "  # as image-like input data with convolution layers (which expect\n",
    "  # shape (`batch_size`, `height`, `width`, `channels`).\n",
    "  spectrogram = spectrogram[..., tf.newaxis]\n",
    "  return spectrogram"
   ]
  },
  {
   "cell_type": "markdown",
   "metadata": {
    "id": "5rdPiPYJphs2"
   },
   "source": [
    "Next, start exploring the data. Print the shapes of one example's tensorized waveform and the corresponding spectrogram, and play the original audio:"
   ]
  },
  {
   "cell_type": "code",
   "execution_count": 14,
   "metadata": {
    "execution": {
     "iopub.execute_input": "2022-01-26T08:04:52.101770Z",
     "iopub.status.busy": "2022-01-26T08:04:52.100842Z",
     "iopub.status.idle": "2022-01-26T08:04:52.415977Z",
     "shell.execute_reply": "2022-01-26T08:04:52.415446Z"
    },
    "id": "4Mu6Y7Yz3C-V"
   },
   "outputs": [
    {
     "name": "stdout",
     "output_type": "stream",
     "text": [
      "Label: no\n",
      "Waveform shape: (16000,)\n",
      "Spectrogram shape: (124, 129, 1)\n",
      "Audio playback\n"
     ]
    },
    {
     "data": {
      "text/html": [
       "\n",
       "                <audio  controls=\"controls\" >\n",
       "                    <source src=\"data:audio/wav;base64,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\" type=\"audio/wav\" />\n",
       "                    Your browser does not support the audio element.\n",
       "                </audio>\n",
       "              "
      ],
      "text/plain": [
       "<IPython.lib.display.Audio object>"
      ]
     },
     "metadata": {},
     "output_type": "display_data"
    }
   ],
   "source": [
    "for waveform, label in waveform_ds.take(1):\n",
    "  label = label.numpy().decode('utf-8')\n",
    "  spectrogram = get_spectrogram(waveform)\n",
    "\n",
    "print('Label:', label)\n",
    "print('Waveform shape:', waveform.shape)\n",
    "print('Spectrogram shape:', spectrogram.shape)\n",
    "print('Audio playback')\n",
    "display.display(display.Audio(waveform, rate=16000))"
   ]
  },
  {
   "cell_type": "markdown",
   "metadata": {
    "id": "xnSuqyxJ1isF"
   },
   "source": [
    "Now, define a function for displaying a spectrogram:"
   ]
  },
  {
   "cell_type": "code",
   "execution_count": 15,
   "metadata": {
    "execution": {
     "iopub.execute_input": "2022-01-26T08:04:52.422463Z",
     "iopub.status.busy": "2022-01-26T08:04:52.421877Z",
     "iopub.status.idle": "2022-01-26T08:04:52.423570Z",
     "shell.execute_reply": "2022-01-26T08:04:52.423981Z"
    },
    "id": "e62jzb36-Jog"
   },
   "outputs": [],
   "source": [
    "def plot_spectrogram(spectrogram, ax):\n",
    "  if len(spectrogram.shape) > 2:\n",
    "    assert len(spectrogram.shape) == 3\n",
    "    spectrogram = np.squeeze(spectrogram, axis=-1)\n",
    "  # Convert the frequencies to log scale and transpose, so that the time is\n",
    "  # represented on the x-axis (columns).\n",
    "  # Add an epsilon to avoid taking a log of zero.\n",
    "  log_spec = np.log(spectrogram.T + np.finfo(float).eps)\n",
    "  height = log_spec.shape[0]\n",
    "  width = log_spec.shape[1]\n",
    "  X = np.linspace(0, np.size(spectrogram), num=width, dtype=int)\n",
    "  Y = range(height)\n",
    "  ax.pcolormesh(X, Y, log_spec)"
   ]
  },
  {
   "cell_type": "markdown",
   "metadata": {
    "id": "baa5c91e8603"
   },
   "source": [
    "Plot the example's waveform over time and the corresponding spectrogram (frequencies over time):"
   ]
  },
  {
   "cell_type": "code",
   "execution_count": 16,
   "metadata": {
    "execution": {
     "iopub.execute_input": "2022-01-26T08:04:52.458644Z",
     "iopub.status.busy": "2022-01-26T08:04:52.457933Z",
     "iopub.status.idle": "2022-01-26T08:04:52.694674Z",
     "shell.execute_reply": "2022-01-26T08:04:52.695148Z"
    },
    "id": "d2_CikgY1tjv"
   },
   "outputs": [],
   "source": [
    "# fig, axes = plt.subplots(2, figsize=(12, 8))\n",
    "# timescale = np.arange(waveform.shape[0])\n",
    "# axes[0].plot(timescale, waveform.numpy())\n",
    "# axes[0].set_title('Waveform')\n",
    "# axes[0].set_xlim([0, 16000])\n",
    "\n",
    "# plot_spectrogram(spectrogram.numpy(), axes[1])\n",
    "# axes[1].set_title('Spectrogram')\n",
    "# plt.show()"
   ]
  },
  {
   "cell_type": "markdown",
   "metadata": {
    "id": "GyYXjW07jCHA"
   },
   "source": [
    "Now, define a function that transforms the waveform dataset into spectrograms and their corresponding labels as integer IDs:"
   ]
  },
  {
   "cell_type": "code",
   "execution_count": 17,
   "metadata": {
    "execution": {
     "iopub.execute_input": "2022-01-26T08:04:52.700279Z",
     "iopub.status.busy": "2022-01-26T08:04:52.699678Z",
     "iopub.status.idle": "2022-01-26T08:04:52.701942Z",
     "shell.execute_reply": "2022-01-26T08:04:52.701499Z"
    },
    "id": "43IS2IouEV40"
   },
   "outputs": [],
   "source": [
    "def get_spectrogram_and_label_id(audio, label):\n",
    "  spectrogram = get_spectrogram(audio)\n",
    "  label_id = tf.argmax(label == commands)\n",
    "  return spectrogram, label_id"
   ]
  },
  {
   "cell_type": "markdown",
   "metadata": {
    "id": "cf5d5b033a45"
   },
   "source": [
    "Map `get_spectrogram_and_label_id` across the dataset's elements with `Dataset.map`:"
   ]
  },
  {
   "cell_type": "code",
   "execution_count": 18,
   "metadata": {
    "execution": {
     "iopub.execute_input": "2022-01-26T08:04:52.706832Z",
     "iopub.status.busy": "2022-01-26T08:04:52.706072Z",
     "iopub.status.idle": "2022-01-26T08:04:52.870120Z",
     "shell.execute_reply": "2022-01-26T08:04:52.869507Z"
    },
    "id": "yEVb_oK0oBLQ"
   },
   "outputs": [],
   "source": [
    "spectrogram_ds = waveform_ds.map(map_func=get_spectrogram_and_label_id,num_parallel_calls=AUTOTUNE)"
   ]
  },
  {
   "cell_type": "markdown",
   "metadata": {
    "id": "6gQpAAgMnyDi"
   },
   "source": [
    "Examine the spectrograms for different examples of the dataset:"
   ]
  },
  {
   "cell_type": "code",
   "execution_count": 19,
   "metadata": {
    "execution": {
     "iopub.execute_input": "2022-01-26T08:04:52.913705Z",
     "iopub.status.busy": "2022-01-26T08:04:52.900418Z",
     "iopub.status.idle": "2022-01-26T08:04:53.608844Z",
     "shell.execute_reply": "2022-01-26T08:04:53.609299Z"
    },
    "id": "QUbHfTuon4iF"
   },
   "outputs": [],
   "source": [
    "# rows = 2\n",
    "# cols = 4\n",
    "# n = rows*cols\n",
    "# fig, axes = plt.subplots(rows, cols, figsize=(10, 10))\n",
    "\n",
    "# for i, (spectrogram, label_id) in enumerate(spectrogram_ds.take(n)):\n",
    "#   r = i // cols\n",
    "#   c = i % cols\n",
    "#   ax = axes[r][c]\n",
    "#   plot_spectrogram(spectrogram.numpy(), ax)\n",
    "#   ax.set_title(commands[label_id.numpy()])\n",
    "#   ax.axis('off')\n",
    "\n",
    "# plt.show()"
   ]
  },
  {
   "cell_type": "markdown",
   "metadata": {
    "id": "z5KdY8IF8rkt"
   },
   "source": [
    "# Build and train the model\n",
    "\n",
    "Repeat the training set preprocessing on the validation and test sets:"
   ]
  },
  {
   "cell_type": "code",
   "execution_count": 20,
   "metadata": {
    "execution": {
     "iopub.execute_input": "2022-01-26T08:04:53.615537Z",
     "iopub.status.busy": "2022-01-26T08:04:53.614754Z",
     "iopub.status.idle": "2022-01-26T08:04:53.617519Z",
     "shell.execute_reply": "2022-01-26T08:04:53.617014Z"
    },
    "id": "10UI32QH_45b"
   },
   "outputs": [],
   "source": [
    "def preprocess_dataset(files):\n",
    "  files_ds = tf.data.Dataset.from_tensor_slices(files)\n",
    "  output_ds = files_ds.map(map_func=get_waveform_and_label,num_parallel_calls=AUTOTUNE)\n",
    "  output_ds = output_ds.map(map_func=get_spectrogram_and_label_id,num_parallel_calls=AUTOTUNE)\n",
    "  return output_ds"
   ]
  },
  {
   "cell_type": "code",
   "execution_count": 21,
   "metadata": {
    "execution": {
     "iopub.execute_input": "2022-01-26T08:04:53.623176Z",
     "iopub.status.busy": "2022-01-26T08:04:53.622513Z",
     "iopub.status.idle": "2022-01-26T08:04:53.863062Z",
     "shell.execute_reply": "2022-01-26T08:04:53.862454Z"
    },
    "id": "HNv4xwYkB2P6"
   },
   "outputs": [],
   "source": [
    "train_ds = spectrogram_ds\n",
    "val_ds = preprocess_dataset(val_files)\n",
    "test_ds = preprocess_dataset(test_files)"
   ]
  },
  {
   "cell_type": "markdown",
   "metadata": {
    "id": "assnWo6SB3lR"
   },
   "source": [
    "Batch the training and validation sets for model training:"
   ]
  },
  {
   "cell_type": "code",
   "execution_count": 22,
   "metadata": {
    "execution": {
     "iopub.execute_input": "2022-01-26T08:04:53.868951Z",
     "iopub.status.busy": "2022-01-26T08:04:53.868150Z",
     "iopub.status.idle": "2022-01-26T08:04:53.872013Z",
     "shell.execute_reply": "2022-01-26T08:04:53.871372Z"
    },
    "id": "UgY9WYzn61EX"
   },
   "outputs": [],
   "source": [
    "batch_size = 64\n",
    "train_ds = train_ds.batch(batch_size)\n",
    "val_ds = val_ds.batch(batch_size)"
   ]
  },
  {
   "cell_type": "markdown",
   "metadata": {
    "id": "GS1uIh6F_TN9"
   },
   "source": [
    "Add `Dataset.cache` and `Dataset.prefetch` operations to reduce read latency while training the model:"
   ]
  },
  {
   "cell_type": "code",
   "execution_count": 23,
   "metadata": {
    "execution": {
     "iopub.execute_input": "2022-01-26T08:04:53.877485Z",
     "iopub.status.busy": "2022-01-26T08:04:53.876594Z",
     "iopub.status.idle": "2022-01-26T08:04:53.879897Z",
     "shell.execute_reply": "2022-01-26T08:04:53.880309Z"
    },
    "id": "fdZ6M-F5_QzY"
   },
   "outputs": [],
   "source": [
    "train_ds = train_ds.cache().prefetch(AUTOTUNE)\n",
    "val_ds = val_ds.cache().prefetch(AUTOTUNE)"
   ]
  },
  {
   "cell_type": "markdown",
   "metadata": {
    "id": "rwHkKCQQb5oW"
   },
   "source": [
    "## Model Settings\n",
    "\n",
    "For the model, you'll use a simple convolutional neural network (CNN), since you have transformed the audio files into spectrogram images.\n",
    "\n",
    "Your `tf.keras.Sequential` model will use the following Keras preprocessing layers:\n",
    "- `tf.keras.layers.Resizing`: to downsample the input to enable the model to train faster.\n",
    "- `tf.keras.layers.Normalization`: to normalize each pixel in the image based on its mean and standard deviation.\n",
    "- **Note: These layers are not supported by hls4ml**\n",
    "\n",
    "For the `Normalization` layer, its `adapt` method would first need to be called on the training data in order to compute aggregate statistics (that is, the mean and the standard deviation)."
   ]
  },
  {
   "cell_type": "code",
   "execution_count": 24,
   "metadata": {},
   "outputs": [
    {
     "name": "stdout",
     "output_type": "stream",
     "text": [
      "Input shape: (124, 129, 1)\n"
     ]
    }
   ],
   "source": [
    "input_shape = None\n",
    "for spectrogram, _ in spectrogram_ds.take(1):\n",
    "    input_shape = spectrogram.shape\n",
    "print('Input shape:', input_shape)\n",
    "num_labels = len(commands)"
   ]
  },
  {
   "cell_type": "markdown",
   "metadata": {},
   "source": [
    "Initializing the normalization layer for the model.\n",
    "- Issue is that `tf.keras.layers.Normalization` is not supported by `hls4ml`\n",
    "- `hls4ml` supports `tf.keras.layers.BatchNormalization`\n",
    "\n",
    "The goal is to make a `tf.keras.layers.BatchNormalization` mimic the the functionality of a `tf.keras.layers.Normalization` layer."
   ]
  },
  {
   "cell_type": "code",
   "execution_count": 25,
   "metadata": {},
   "outputs": [],
   "source": [
    "# # Original Normalization layer code\n",
    "# # Instantiate the `tf.keras.layers.Normalization` layer.\n",
    "# norm_layer = layers.Normalization()\n",
    "# # Fit the state of the layer to the spectrograms\n",
    "# # with `Normalization.adapt`.\n",
    "# norm_layer.adapt(data=spectrogram_ds.map(map_func=lambda spec, label: spec))\n",
    "\n",
    "# New normalization layer code\n",
    "norm_layer = layers.BatchNormalization(input_shape=input_shape,axis=-1,scale=True,center=True)\n",
    "# for spectrogram, _ in spectrogram_ds.take(1):\n",
    "#     print(\"BatchNormalization with [training = True]:\")\n",
    "#     batch_normalized_data = norm_layer(train_ds, training=True)\n",
    "#     #print(batch_normalized_data.numpy())\n",
    "#     print(\"batch normalized avg: \", np.average(batch_normalized_data.numpy()))\n",
    "#     print(\"batch normalized var: \", np.var(batch_normalized_data.numpy()))\n",
    "#     print(\"=========================================\")\n",
    "#     print(\"BatchNormalization with [training = False]:\")\n",
    "#     batch_normalized_data = norm_layer(train_ds, training=False)\n",
    "#     #print(batch_normalized_data.numpy())\n",
    "#     print(\"batch normalized avg: \", np.average(batch_normalized_data.numpy()))\n",
    "#     print(\"batch normalized var: \", np.var(batch_normalized_data.numpy()))"
   ]
  },
  {
   "cell_type": "markdown",
   "metadata": {},
   "source": [
    "Creating the `Sequential` model:"
   ]
  },
  {
   "cell_type": "code",
   "execution_count": 26,
   "metadata": {
    "execution": {
     "iopub.execute_input": "2022-01-26T08:04:53.887631Z",
     "iopub.status.busy": "2022-01-26T08:04:53.886952Z",
     "iopub.status.idle": "2022-01-26T08:05:03.266035Z",
     "shell.execute_reply": "2022-01-26T08:05:03.261300Z"
    },
    "id": "ALYz7PFCHblP"
   },
   "outputs": [
    {
     "name": "stdout",
     "output_type": "stream",
     "text": [
      "Model: \"sequential\"\n",
      "_________________________________________________________________\n",
      " Layer (type)                Output Shape              Param #   \n",
      "=================================================================\n",
      " batch_normalization (BatchN  (None, 124, 129, 1)      4         \n",
      " ormalization)                                                   \n",
      "                                                                 \n",
      " conv2d (Conv2D)             (None, 122, 127, 4)       40        \n",
      "                                                                 \n",
      " conv2d_1 (Conv2D)           (None, 120, 125, 8)       296       \n",
      "                                                                 \n",
      " max_pooling2d (MaxPooling2D  (None, 60, 62, 8)        0         \n",
      " )                                                               \n",
      "                                                                 \n",
      " dropout (Dropout)           (None, 60, 62, 8)         0         \n",
      "                                                                 \n",
      " flatten (Flatten)           (None, 29760)             0         \n",
      "                                                                 \n",
      " dense (Dense)               (None, 16)                476176    \n",
      "                                                                 \n",
      " dropout_1 (Dropout)         (None, 16)                0         \n",
      "                                                                 \n",
      " dense_1 (Dense)             (None, 8)                 136       \n",
      "                                                                 \n",
      "=================================================================\n",
      "Total params: 476,652\n",
      "Trainable params: 476,650\n",
      "Non-trainable params: 2\n",
      "_________________________________________________________________\n"
     ]
    }
   ],
   "source": [
    "base_model = models.Sequential([\n",
    "    layers.Input(shape=input_shape),\n",
    "    # Downsample the input.\n",
    "    #layers.Resizing(32, 32),\n",
    "    norm_layer,\n",
    "    layers.Conv2D(4, 3, activation='relu'),\n",
    "    layers.Conv2D(8, 3, activation='relu'),\n",
    "    #layers.Conv2D(32, 3, activation='relu'),\n",
    "    #layers.Conv2D(64, 3, activation='relu'),\n",
    "    layers.MaxPooling2D(),\n",
    "    layers.Dropout(0.25),\n",
    "    layers.Flatten(),\n",
    "    #layers.Dense(128, activation='relu'),\n",
    "    layers.Dense(16, activation='relu'),\n",
    "    layers.Dropout(0.5),\n",
    "    layers.Dense(num_labels),\n",
    "])\n",
    "\n",
    "base_model.summary()"
   ]
  },
  {
   "cell_type": "markdown",
   "metadata": {},
   "source": [
    "Pruning the model is optional, and disabled by default."
   ]
  },
  {
   "cell_type": "code",
   "execution_count": 27,
   "metadata": {},
   "outputs": [],
   "source": [
    "prune_the_model = False\n",
    "model = None\n",
    "if prune_the_model:\n",
    "    model_for_pruning = tfmot.sparsity.keras.prune.prune_low_magnitude(base_model,\n",
    "                 pruning_schedule=tfmot.sparsity.keras.ConstantSparsity(0.75, begin_step=2000, frequency=100))\n",
    "    model_for_pruning.summary()\n",
    "    model = model_for_pruning\n",
    "else:\n",
    "    model = base_model"
   ]
  },
  {
   "cell_type": "markdown",
   "metadata": {
    "id": "de52e5afa2f3"
   },
   "source": [
    "Configure the Keras model with the Adam optimizer and the cross-entropy loss:"
   ]
  },
  {
   "cell_type": "code",
   "execution_count": 28,
   "metadata": {
    "execution": {
     "iopub.execute_input": "2022-01-26T08:05:03.272380Z",
     "iopub.status.busy": "2022-01-26T08:05:03.271757Z",
     "iopub.status.idle": "2022-01-26T08:05:03.281300Z",
     "shell.execute_reply": "2022-01-26T08:05:03.281634Z"
    },
    "id": "wFjj7-EmsTD-"
   },
   "outputs": [],
   "source": [
    "model.compile(\n",
    "    optimizer=tf.keras.optimizers.Adam(),\n",
    "    loss=tf.keras.losses.SparseCategoricalCrossentropy(from_logits=True),\n",
    "    metrics=['accuracy'],\n",
    ")"
   ]
  },
  {
   "cell_type": "markdown",
   "metadata": {
    "id": "f42b9e3a4705"
   },
   "source": [
    "Train the model over ~~10 epochs~~ 20 epochs for demonstration purposes:"
   ]
  },
  {
   "cell_type": "code",
   "execution_count": 29,
   "metadata": {
    "execution": {
     "iopub.execute_input": "2022-01-26T08:05:03.286913Z",
     "iopub.status.busy": "2022-01-26T08:05:03.286335Z",
     "iopub.status.idle": "2022-01-26T08:05:14.066442Z",
     "shell.execute_reply": "2022-01-26T08:05:14.066885Z"
    },
    "id": "ttioPJVMcGtq"
   },
   "outputs": [],
   "source": [
    "training_callbacks = None\n",
    "if(prune_the_model):\n",
    "    training_callbacks = [tfmot.sparsity.keras.UpdatePruningStep()]\n",
    "\n",
    "history = model.fit(train_ds, validation_data=val_ds,epochs=20, callbacks=training_callbacks,verbose=1)"
   ]
  },
  {
   "cell_type": "markdown",
   "metadata": {
    "id": "gjpCDeQ4mUfS"
   },
   "source": [
    "Let's plot the training and validation loss curves to check how your model has improved during training:"
   ]
  },
  {
   "cell_type": "code",
   "execution_count": 30,
   "metadata": {
    "execution": {
     "iopub.execute_input": "2022-01-26T08:05:14.109776Z",
     "iopub.status.busy": "2022-01-26T08:05:14.088784Z",
     "iopub.status.idle": "2022-01-26T08:05:14.202506Z",
     "shell.execute_reply": "2022-01-26T08:05:14.203379Z"
    },
    "id": "nzhipg3Gu2AY"
   },
   "outputs": [
    {
     "data": {
      "image/png": "[encoded data removed]",
      "text/plain": [
       "<Figure size 432x288 with 1 Axes>"
      ]
     },
     "metadata": {},
     "output_type": "display_data"
    }
   ],
   "source": [
    "metrics = history.history\n",
    "plt.plot(history.epoch, metrics['loss'], history.epoch, metrics['accuracy'])\n",
    "plt.legend(['loss', 'accuracy'])\n",
    "plt.show()"
   ]
  },
  {
   "cell_type": "markdown",
   "metadata": {
    "id": "5ZTt3kO3mfm4"
   },
   "source": [
    "## Evaluate the model performance\n",
    "\n",
    "Run the model on the test set and check the model's performance:"
   ]
  },
  {
   "cell_type": "code",
   "execution_count": 31,
   "metadata": {
    "execution": {
     "iopub.execute_input": "2022-01-26T08:05:14.211012Z",
     "iopub.status.busy": "2022-01-26T08:05:14.209773Z",
     "iopub.status.idle": "2022-01-26T08:05:14.830928Z",
     "shell.execute_reply": "2022-01-26T08:05:14.830111Z"
    },
    "id": "biU2MwzyAo8o"
   },
   "outputs": [],
   "source": [
    "test_audio = []\n",
    "test_labels = []\n",
    "\n",
    "for audio, label in test_ds:\n",
    "  test_audio.append(audio.numpy())\n",
    "  test_labels.append(label.numpy())\n",
    "\n",
    "test_audio = np.array(test_audio)\n",
    "test_labels = np.array(test_labels)"
   ]
  },
  {
   "cell_type": "code",
   "execution_count": 32,
   "metadata": {
    "execution": {
     "iopub.execute_input": "2022-01-26T08:05:14.893616Z",
     "iopub.status.busy": "2022-01-26T08:05:14.892785Z",
     "iopub.status.idle": "2022-01-26T08:05:15.121509Z",
     "shell.execute_reply": "2022-01-26T08:05:15.120984Z"
    },
    "id": "ktUanr9mRZky"
   },
   "outputs": [
    {
     "name": "stdout",
     "output_type": "stream",
     "text": [
      "Test set accuracy: 68%\n"
     ]
    }
   ],
   "source": [
    "y_pred = np.argmax(model.predict(test_audio), axis=1)\n",
    "y_true = test_labels\n",
    "\n",
    "test_acc = sum(y_pred == y_true) / len(y_true)\n",
    "print(f'Test set accuracy: {test_acc:.0%}')"
   ]
  },
  {
   "cell_type": "markdown",
   "metadata": {
    "id": "en9Znt1NOabH"
   },
   "source": [
    "### Display a confusion matrix\n",
    "\n",
    "Use a <a href=\"https://developers.google.com/machine-learning/glossary#confusion-matrix\" class=\"external\">confusion matrix</a> to check how well the model did classifying each of the commands in the test set:\n"
   ]
  },
  {
   "cell_type": "code",
   "execution_count": 33,
   "metadata": {
    "execution": {
     "iopub.execute_input": "2022-01-26T08:05:15.127704Z",
     "iopub.status.busy": "2022-01-26T08:05:15.127044Z",
     "iopub.status.idle": "2022-01-26T08:05:15.493895Z",
     "shell.execute_reply": "2022-01-26T08:05:15.493278Z"
    },
    "id": "LvoSAOiXU3lL"
   },
   "outputs": [
    {
     "data": {
      "image/png": "[encoded data removed]",
      "text/plain": [
       "<Figure size 720x576 with 2 Axes>"
      ]
     },
     "metadata": {},
     "output_type": "display_data"
    }
   ],
   "source": [
    "confusion_mtx = tf.math.confusion_matrix(y_true, y_pred)\n",
    "plt.figure(figsize=(10, 8))\n",
    "sns.heatmap(confusion_mtx, xticklabels=commands, yticklabels=commands, annot=True, fmt='g')\n",
    "plt.xlabel('Prediction')\n",
    "plt.ylabel('Label')\n",
    "plt.show()"
   ]
  },
  {
   "cell_type": "markdown",
   "metadata": {
    "id": "mQGi_mzPcLvl"
   },
   "source": [
    "## Run inference on an audio file\n",
    "\n",
    "Finally, verify the model's prediction output using an input audio file of someone saying \"no\". How well does your model perform?"
   ]
  },
  {
   "cell_type": "code",
   "execution_count": 34,
   "metadata": {
    "execution": {
     "iopub.execute_input": "2022-01-26T08:05:15.499851Z",
     "iopub.status.busy": "2022-01-26T08:05:15.499256Z",
     "iopub.status.idle": "2022-01-26T08:05:15.816500Z",
     "shell.execute_reply": "2022-01-26T08:05:15.815899Z"
    },
    "id": "zRxauKMdhofU"
   },
   "outputs": [
    {
     "data": {
      "image/png": "[encoded data removed]",
      "text/plain": [
       "<Figure size 432x288 with 1 Axes>"
      ]
     },
     "metadata": {},
     "output_type": "display_data"
    }
   ],
   "source": [
    "sample_file = data_dir/'no/01bb6a2a_nohash_0.wav'\n",
    "\n",
    "sample_ds = preprocess_dataset([str(sample_file)])\n",
    "\n",
    "for spectrogram, label in sample_ds.batch(1):\n",
    "  prediction = model(spectrogram)\n",
    "  plt.bar(commands, tf.nn.softmax(prediction[0]))\n",
    "  plt.title(f'Predictions for \"{commands[label[0]]}\"')\n",
    "  plt.show()"
   ]
  },
  {
   "cell_type": "markdown",
   "metadata": {
    "id": "VgWICqdqQNaQ"
   },
   "source": [
    "As the output suggests, your model should have recognized the audio command as \"no\"."
   ]
  },
  {
   "cell_type": "markdown",
   "metadata": {
    "id": "J3jF933m9z1J"
   },
   "source": [
    "## Next steps\n",
    "\n",
    "This tutorial demonstrated how to carry out simple audio classification/automatic speech recognition using a convolutional neural network with TensorFlow and Python. To learn more, consider the following resources:\n",
    "\n",
    "- The [Sound classification with YAMNet](https://www.tensorflow.org/hub/tutorials/yamnet) tutorial shows how to use transfer learning for audio classification.\n",
    "- The notebooks from <a href=\"https://www.kaggle.com/c/tensorflow-speech-recognition-challenge/overview\" class=\"external\">Kaggle's TensorFlow speech recognition challenge</a>.\n",
    "- The \n",
    "<a href=\"https://codelabs.developers.google.com/codelabs/tensorflowjs-audio-codelab/index.html#0\" class=\"external\">TensorFlow.js - Audio recognition using transfer learning codelab</a> teaches how to build your own interactive web app for audio classification.\n",
    "- <a href=\"https://arxiv.org/abs/1709.04396\" class=\"external\">A tutorial on deep learning for music information retrieval</a> (Choi et al., 2017) on arXiv.\n",
    "- TensorFlow also has additional support for [audio data preparation and augmentation](https://www.tensorflow.org/io/tutorials/audio) to help with your own audio-based projects.\n",
    "- Consider using the <a href=\"https://librosa.org/\" class=\"external\">librosa</a> library—a Python package for music and audio analysis."
   ]
  },
  {
   "cell_type": "markdown",
   "metadata": {},
   "source": [
    "# Processing the model for hls4ml\n",
    "\n",
    "From this model I will attempt to create an HLS model from the above Keras Model."
   ]
  },
  {
   "cell_type": "markdown",
   "metadata": {},
   "source": [
    "### Configuration Parameters"
   ]
  },
  {
   "cell_type": "code",
   "execution_count": 35,
   "metadata": {},
   "outputs": [],
   "source": [
    "hls_model_base_filename = \"simple_hls\"\n",
    "ap_int_length = 32\n",
    "ap_int_part = 20\n",
    "\n",
    "xilix_part = None\n",
    "real_hw = False\n",
    "if real_hw:\n",
    "    xilinx_part = \"xc7z007sclg225-1\" #Avnet MiniZed\n",
    "else:\n",
    "    xilinx_part = \"xczu7cg-fbvb900-1-i\" #Zynq Ultrascale MPSoCs (Max LUT, FF, DSP)\n",
    "    #xilinx_part = \"xc7a200tfbg484-1\" #Artix-7 (Max SLICE, BRAM)"
   ]
  },
  {
   "cell_type": "markdown",
   "metadata": {},
   "source": [
    "### Model JSON file creation\n",
    "Creating files for model, weights, input data and output predictions\n",
    "- To re-run this, you have to restart the kernel, as `model.save_weights` doesn't close the file."
   ]
  },
  {
   "cell_type": "code",
   "execution_count": 36,
   "metadata": {},
   "outputs": [],
   "source": [
    "with open(hls_model_base_filename+\"_model.json\", \"w\") as json_file:\n",
    "    json_file.write(model.to_json())\n",
    "    json_file.close()\n",
    "    \n",
    "model.save_weights(hls_model_base_filename+\"_weights.h5\")\n",
    "with open(hls_model_base_filename+\"_weights.h5\", \"r\") as h5_file:\n",
    "    h5_file.close()"
   ]
  },
  {
   "cell_type": "markdown",
   "metadata": {},
   "source": [
    "### Test data creation"
   ]
  },
  {
   "cell_type": "code",
   "execution_count": 37,
   "metadata": {},
   "outputs": [],
   "source": [
    "all_tests = True\n",
    "test_samples = None\n",
    "\n",
    "if all_tests:\n",
    "    test_samples = ['down/00b01445_nohash_1.wav',\n",
    "                'go/0a9f9af7_nohash_0.wav',\n",
    "                'left/00b01445_nohash_0.wav',\n",
    "                'no/01bb6a2a_nohash_0.wav',\n",
    "                'right/0ab3b47d_nohash_0.wav',\n",
    "                'stop/0b40aa8e_nohash_0.wav',\n",
    "                'up/0ab3b47d_nohash_0.wav',\n",
    "                'yes/00f0204f_nohash_0.wav']\n",
    "else:\n",
    "    test_samples = ['down/00b01445_nohash_1.wav']\n",
    "\n",
    "#append each element\n",
    "with open(hls_model_base_filename+\"_input_data.dat\", 'a') as sample_input:\n",
    "    with open(hls_model_base_filename+\"_output_data.dat\", 'a') as sample_output:\n",
    "        for command in test_samples:\n",
    "            test_ds = preprocess_dataset([str(data_dir/command)])\n",
    "            for spectrogram, label in test_ds.batch(1):\n",
    "                for line1 in spectrogram.numpy():\n",
    "                    for line2 in line1:\n",
    "                        for line3 in line2:\n",
    "                            for num in line3:                        \n",
    "                                #sample_input.write(str(num)+' ')\n",
    "                                sample_input.write('{:.8f}'.format(num)+' ')\n",
    "                prediction = model(spectrogram)\n",
    "                for num in tf.nn.softmax(prediction[0]).numpy():\n",
    "                    #sample_output.write(str(num)+' ')\n",
    "                    sample_output.write('{:.8f}'.format(num)+' ')\n",
    "            sample_input.write('\\n')\n",
    "            sample_output.write('\\n')"
   ]
  },
  {
   "cell_type": "markdown",
   "metadata": {},
   "source": [
    "# HLS4ML Configuration & Compilation"
   ]
  },
  {
   "cell_type": "code",
   "execution_count": 38,
   "metadata": {},
   "outputs": [
    {
     "name": "stdout",
     "output_type": "stream",
     "text": [
      "Interpreting Sequential\n",
      "Topology:\n",
      "Layer name: input_1, layer type: InputLayer, input shapes: [[None, 124, 129, 1]], output shape: [None, 124, 129, 1]\n",
      "Layer name: batch_normalization, layer type: BatchNormalization, input shapes: [[None, 124, 129, 1]], output shape: [None, 124, 129, 1]\n",
      "Layer name: conv2d, layer type: Conv2D, input shapes: [[None, 124, 129, 1]], output shape: [None, 122, 127, 4]\n",
      "Layer name: conv2d_1, layer type: Conv2D, input shapes: [[None, 122, 127, 4]], output shape: [None, 120, 125, 8]\n",
      "Layer name: max_pooling2d, layer type: MaxPooling2D, input shapes: [[None, 120, 125, 8]], output shape: [None, 60, 62, 8]\n",
      "Layer name: flatten, layer type: Reshape, input shapes: [[None, 60, 62, 8]], output shape: [None, 29760]\n",
      "Layer name: dense, layer type: Dense, input shapes: [[None, 29760]], output shape: [None, 16]\n",
      "Layer name: dense_1, layer type: Dense, input shapes: [[None, 16]], output shape: [None, 8]\n",
      "Creating HLS model\n",
      "Writing HLS project\n",
      "Done\n",
      "Synthesis report not found.\n"
     ]
    },
    {
     "data": {
      "text/plain": [
       "{}"
      ]
     },
     "execution_count": 38,
     "metadata": {},
     "output_type": "execute_result"
    }
   ],
   "source": [
    "config_dict = {\n",
    "    'KerasJson': hls_model_base_filename+'_model.json',\n",
    "    'KerasH5': hls_model_base_filename+'_weights.h5',\n",
    "    'InputData': hls_model_base_filename+'_input_data.dat',\n",
    "    'OutputPredictions': hls_model_base_filename+'_output_data.dat',\n",
    "    'OutputDir': 'speechprojectmodel',\n",
    "    'ProjectName': 'myspeechproject',\n",
    "    'XilinxPart': xilinx_part,\n",
    "    'ClockPeriod': 5,\n",
    "\n",
    "    'IOType': 'io_stream',\n",
    "    'HLSConfig' : {\n",
    "        'Model' : {\n",
    "            'ReuseFactor': 1,\n",
    "            'Precision': 'ap_fixed<'+str(ap_int_length)+','+str(ap_int_part)+'>', \n",
    "            #'Strategy': 'Latency'\n",
    "        }\n",
    "    }\n",
    "}\n",
    "\n",
    "# Instantiate the hls model\n",
    "hls_model = hls4ml.converters.keras_to_hls(config_dict)\n",
    "# Compile Model and Run C Simulation\n",
    "hls_model.build(csim=True, synth=False, cosim=False)"
   ]
  },
  {
   "cell_type": "code",
   "execution_count": 40,
   "metadata": {},
   "outputs": [
    {
     "name": "stdout",
     "output_type": "stream",
     "text": [
      "INFO: [SIM 2] *************** CSIM start ***************\n",
      "INFO: [SIM 4] CSIM will launch GCC as the compiler.\n",
      "   Compiling ../../../../myspeechproject_test.cpp in debug mode\n",
      "   Generating csim.exe\n",
      "Processing input 0\n",
      "Predictions\n",
      "0.948514 0.00245677 0.00217555 0.0110262 0.00050382 0.0334192 0.00066779 0.00123687 \n",
      "Quantized predictions\n",
      "2.75269 -1.07446 -1.11133 -0.332031 -1.78418 1.19067 -1.38159 -1.68921 \n",
      "Processing input 1\n",
      "Predictions\n",
      "0.104088 0.482765 0.00074249 0.412103 0.00029383 2.97e-006 3.59e-006 8.3e-007 \n",
      "Quantized predictions\n",
      "2.58813 3.9353 -1.60596 3.77319 -2.479 -6.17529 -6.07642 -7.45117 \n",
      "Processing input 2\n",
      "Predictions\n",
      "3.85e-006 1.08e-005 0.897678 2.944e-005 0.0686296 4.7e-006 1.087e-005 0.0336325 \n",
      "Quantized predictions\n",
      "-3.771 -2.67163 5.18188 -1.80542 3.9292 -3.15576 -3.18994 3.17163 \n",
      "Processing input 3\n",
      "Predictions\n",
      "0.255528 0.254648 0.0169406 0.46411 0.00486398 0.00191599 0.00093886 0.00105434 \n",
      "Quantized predictions\n",
      "1.21924 1.7207 -0.601318 1.73755 -1.51465 -1.97388 -2.36914 -3.1123 \n",
      "Processing input 4\n",
      "Predictions\n",
      "0 0 0.00015586 0 0.999186 0 0 0.00065836 \n",
      "Quantized predictions\n",
      "-14.7725 -6.94653 4.60181 -7.44897 12.4912 -12.9526 -5.23071 6.14355 \n",
      "Processing input 5\n",
      "Predictions\n",
      "0.00343571 1.155e-005 0.00034776 0 4.164e-005 0.996105 2.392e-005 3.49e-005 \n",
      "Quantized predictions\n",
      "2.66748 -2.04419 0.806885 -8.97144 -1.0376 7.57202 -1.46777 -1.22729 \n",
      "Processing input 6\n",
      "Predictions\n",
      "0 1e-008 1.23e-006 6.65e-006 8.406e-005 4.09e-006 0.999899 5.07e-006 \n",
      "Quantized predictions\n",
      "-8.84961 -8.51685 -3.604 -1.8313 0.34668 -2.94141 7.96265 -2.42627 \n",
      "Processing input 7\n",
      "Predictions\n",
      "0.00022242 0.00249184 0.0398221 0.00466545 0.0164095 0.00307652 0.00045297 0.932859 \n",
      "Quantized predictions\n",
      "-1.30664 -0.134766 0.727295 0.594238 0.120361 -0.0253906 -1.22729 1.90576 \n",
      "INFO: Saved inference results to file: tb_data/csim_results.log\n",
      "INFO: [SIM 1] CSim done with 0 errors.\n",
      "INFO: [SIM 3] *************** CSIM finish ***************\n",
      "\n"
     ]
    }
   ],
   "source": [
    "report_filename = config_dict.get('OutputDir')+'/'+config_dict.get('ProjectName')+\\\n",
    "'_prj/solution1/csim/report/'+config_dict.get('ProjectName')+'_csim.log'\n",
    "if pathlib.Path(report_filename).exists() :\n",
    "    with open(report_filename, \"r\") as report_file:\n",
    "        print(report_file.read())\n",
    "else :\n",
    "    print(\"CSim report file not found\")\n",
    "    print(report_filename)"
   ]
  }
 ],
 "metadata": {
  "accelerator": "GPU",
  "colab": {
   "collapsed_sections": [],
   "name": "simple_audio.ipynb",
   "toc_visible": true
  },
  "kernelspec": {
   "display_name": "Python 3 (ipykernel)",
   "language": "python",
   "name": "python3"
  },
  "language_info": {
   "codemirror_mode": {
    "name": "ipython",
    "version": 3
   },
   "file_extension": ".py",
   "mimetype": "text/x-python",
   "name": "python",
   "nbconvert_exporter": "python",
   "pygments_lexer": "ipython3",
   "version": "3.9.7"
  }
 },
 "nbformat": 4,
 "nbformat_minor": 1
}
